{
 "cells": [
  {
   "cell_type": "markdown",
   "metadata": {},
   "source": [
    "Welcome to today's Python tutorial! This tutorial is designed to be hands-on, and most of what you need to run the finger exercises and demos is in this notebook. To run the code in a cell, hit `Shift+ENTER` (or select \"Run\" from the \"Cell\" menu). To get started, try executing the next cell."
   ]
  },
  {
   "cell_type": "code",
   "execution_count": null,
   "metadata": {
    "collapsed": false
   },
   "outputs": [],
   "source": [
    "import this"
   ]
  },
  {
   "cell_type": "markdown",
   "metadata": {},
   "source": [
    "Feel free to interrupt with questions at any time!"
   ]
  },
  {
   "cell_type": "markdown",
   "metadata": {},
   "source": [
    "# 1. Variables"
   ]
  },
  {
   "cell_type": "markdown",
   "metadata": {},
   "source": [
    "## 1.1 Simple datatypes"
   ]
  },
  {
   "cell_type": "markdown",
   "metadata": {},
   "source": [
    " Let's print out some Python-specific constants. Execute this cell and see if you can interpret the results."
   ]
  },
  {
   "cell_type": "code",
   "execution_count": null,
   "metadata": {
    "collapsed": false
   },
   "outputs": [],
   "source": [
    "import sys\n",
    "print sys.maxint\n",
    "print type(sys.maxint)\n",
    "print sys.maxint + 1\n",
    "print type(sys.maxint + 1)\n",
    "print sys.float_info"
   ]
  },
  {
   "cell_type": "markdown",
   "metadata": {},
   "source": [
    "Python has native support for unicode. Depending on your Python build, you may have all or part of the unicode standard available to you, but all Pythons should have at least the basic multilingual plane."
   ]
  },
  {
   "cell_type": "code",
   "execution_count": null,
   "metadata": {
    "collapsed": false
   },
   "outputs": [],
   "source": [
    "print sys.maxunicode\n",
    "print unichr(0x05d0)"
   ]
  },
  {
   "cell_type": "markdown",
   "metadata": {},
   "source": [
    "If you have Python3 installed and available in your path, the following should work:"
   ]
  },
  {
   "cell_type": "code",
   "execution_count": null,
   "metadata": {
    "collapsed": false
   },
   "outputs": [],
   "source": [
    "!python3 -c \"print('\\N{GRINNING CAT FACE WITH SMILING EYES}')\""
   ]
  },
  {
   "cell_type": "markdown",
   "metadata": {},
   "source": [
    "Let's do some simple exercises to get familiar with Python's datatypes. Below, replace the question marks by the appropriate method. Afterwards, you can run the cell containing the asserts to check your answers.\n",
    "\n",
    "Hint: you can use tab-completion to find out what methods an object exposes, and you can append '?' or '??' to a method name to get more info about that method."
   ]
  },
  {
   "cell_type": "code",
   "execution_count": null,
   "metadata": {
    "collapsed": true
   },
   "outputs": [],
   "source": [
    "my_list = [0, 1, 2, 3, 4]"
   ]
  },
  {
   "cell_type": "code",
   "execution_count": null,
   "metadata": {
    "collapsed": true
   },
   "outputs": [],
   "source": [
    "# Insert the number 5 at the end of the list.\n",
    "my_list.?????\n",
    "\n",
    "# \"Pop\" the first element from the list (i.e. store the first element in\n",
    "# a variable and remove it from the list).\n",
    "first = my_list.?????\n",
    "\n",
    "# Retrieve the last element of the list.\n",
    "last = my_list[?????]"
   ]
  },
  {
   "cell_type": "code",
   "execution_count": null,
   "metadata": {
    "collapsed": false
   },
   "outputs": [],
   "source": [
    "assert first == 0\n",
    "assert last == 5\n",
    "assert my_list == [1, 2, 3, 4, 5]"
   ]
  },
  {
   "cell_type": "markdown",
   "metadata": {},
   "source": [
    "The following exercise highlights the difference between lists and tuples. The former are mutable, whereas the latter are immutable."
   ]
  },
  {
   "cell_type": "code",
   "execution_count": null,
   "metadata": {
    "collapsed": true
   },
   "outputs": [],
   "source": []
  },
  {
   "cell_type": "code",
   "execution_count": null,
   "metadata": {
    "collapsed": false
   },
   "outputs": [],
   "source": [
    "my_list = [0, 1, 2, 3, 4]\n",
    "my_tuple = (0, 1, 2, 3, 4)\n",
    "\n",
    "# Change the last element of my_list and my_tuple to the number 5.\n",
    "# What do you observe?\n",
    "my_list[-1] = ?????\n",
    "my_tuple[-1] = ?????\n",
    "\n",
    "# Now, let's create a list and a tuple that each contain a sublist. \n",
    "my_list = [0, 1, 2, 3, 4, []]\n",
    "my_tuple = (0, 1, 2, 3, 4, [])\n",
    "\n",
    "# Retrieve the sublist, insert something into it, and print the result.\n",
    "# Why does this work? What's different with the previous example?\n",
    "my_list[-1].append('a string')\n",
    "my_tuple[-1].append('another string')\n",
    "\n",
    "print my_list\n",
    "print my_tuple"
   ]
  },
  {
   "cell_type": "markdown",
   "metadata": {},
   "source": [
    "Last but not least, let's create some dictionaries. The dictionary is really Python's workhorse. In fact, you could argue (with some exaggeration) that Python's classes are just a thin layer around a dictionary (of method names and implementations)."
   ]
  },
  {
   "cell_type": "code",
   "execution_count": null,
   "metadata": {
    "collapsed": true
   },
   "outputs": [],
   "source": [
    "# Create an empty dictionary.\n",
    "phonebook = {}\n",
    "\n",
    "# Insert the following key-value pairs: ('john', '555-12345'), ('mary', '555-789123').\n",
    "# You'll need two statements.\n",
    "?????\n",
    "\n",
    "# Retrieve mary's phone number.\n",
    "?????\n",
    "\n",
    "# Check if jane is present in the phonebook.\n",
    "?????"
   ]
  },
  {
   "cell_type": "code",
   "execution_count": null,
   "metadata": {
    "collapsed": true
   },
   "outputs": [],
   "source": []
  },
  {
   "cell_type": "markdown",
   "metadata": {},
   "source": [
    "# 2. Control statements (if-then-elif-else)"
   ]
  },
  {
   "cell_type": "markdown",
   "metadata": {},
   "source": [
    "Free-form exercise: write an if-then-else statement that does something meaningful (e.g. prints a string, computes something). Be creative ;)"
   ]
  },
  {
   "cell_type": "code",
   "execution_count": null,
   "metadata": {
    "collapsed": false
   },
   "outputs": [],
   "source": [
    "# if-then-else goes here.\n",
    "if ????"
   ]
  },
  {
   "cell_type": "code",
   "execution_count": null,
   "metadata": {
    "collapsed": false
   },
   "outputs": [],
   "source": [
    "# This is a bit of a frivolous check to ensure that you've\n",
    "# entered at least one if statement in the previous cell.\n",
    "# This is more of a (contrived) example to show how you can\n",
    "# you can use Python to inspect the language itself. If you\n",
    "# are sure that you entered an if-statement in the previous\n",
    "# cell, but the assertion error gets triggered, execute both\n",
    "# the previous cell and this cell again, and see if things\n",
    "# change...\n",
    "\n",
    "import ast\n",
    "node = ast.parse(_i)\n",
    "\n",
    "class IfVisitor(ast.NodeVisitor):\n",
    "    def __init__(self):\n",
    "        self.found = False\n",
    "    def visit_If(self, node):\n",
    "        self.found = True\n",
    "\n",
    "visitor = IfVisitor(); visitor.visit(node)\n",
    "assert visitor.found, \"Hey, looks like there was no if-statement in the previous cell...\""
   ]
  },
  {
   "cell_type": "markdown",
   "metadata": {},
   "source": [
    "# 3. Loops"
   ]
  },
  {
   "cell_type": "markdown",
   "metadata": {},
   "source": [
    "## 3.1 For-loops"
   ]
  },
  {
   "cell_type": "markdown",
   "metadata": {
    "collapsed": true
   },
   "source": [
    "Imagine you are the young Gauss: you are bored at school and your teacher asks you to keep yourself busy by summing the first 100 natural numbers. You take out your laptop, fire up Python and write the following for-loop:"
   ]
  },
  {
   "cell_type": "code",
   "execution_count": null,
   "metadata": {
    "collapsed": false
   },
   "outputs": [],
   "source": [
    "sum_numbers = 0\n",
    "for ?????:\n",
    "    sum_numbers += ?????\n",
    "print sum_numbers"
   ]
  },
  {
   "cell_type": "markdown",
   "metadata": {},
   "source": [
    "Aside: while the above works perfectly, it is not entirely _Pythonic_: there is a much more concise way of doing this  using Python's built-in ``sum``. For extra credit, find the help for ``sum`` and write a one-liner that achieves the same as the for-loop."
   ]
  },
  {
   "cell_type": "code",
   "execution_count": null,
   "metadata": {
    "collapsed": true
   },
   "outputs": [],
   "source": [
    "sum_numbers_2 = ?????"
   ]
  },
  {
   "cell_type": "markdown",
   "metadata": {},
   "source": [
    "## 3.2 List comprehensions"
   ]
  },
  {
   "cell_type": "markdown",
   "metadata": {},
   "source": [
    "Python provides a mechanism to succintly generate lists without having to write an explicit for-loop by using list comprehensions. Write a list comprehension that generates all the odd numbers between 0 and 100. Hint: ``%`` denotes the remainder operation in Python (e.g. ``50 % 2 == 0``, ``50 % 3 = 2``, etc.)"
   ]
  },
  {
   "cell_type": "code",
   "execution_count": null,
   "metadata": {
    "collapsed": true
   },
   "outputs": [],
   "source": [
    "odd_numbers = [?????]"
   ]
  },
  {
   "cell_type": "markdown",
   "metadata": {},
   "source": [
    "Python also has the ``map``, ``filter``, and ``reduce`` builtins familiar from functional languages, although they are maybe not as widely used. The function ``map`` takes a function and an iterable as its arguments, and applies the function to each argument. For example:"
   ]
  },
  {
   "cell_type": "code",
   "execution_count": null,
   "metadata": {
    "collapsed": true
   },
   "outputs": [],
   "source": [
    "def square(number):\n",
    "    return number ** 2\n",
    "\n",
    "squared_odd_numbers = map(square, odd_numbers)"
   ]
  },
  {
   "cell_type": "markdown",
   "metadata": {},
   "source": [
    "Now, translate the ``map`` snippet above into an equivalent statement using only list comprehensions. That is, write a list comprehension that applies the function ``square`` to each element in ``odd_numbers``."
   ]
  },
  {
   "cell_type": "code",
   "execution_count": null,
   "metadata": {
    "collapsed": true
   },
   "outputs": [],
   "source": [
    "squared_odd_numbers_2 = [?????]"
   ]
  },
  {
   "cell_type": "markdown",
   "metadata": {},
   "source": [
    "This is (part of) the reason why ``map``, ``filter``, and friends are not very widely used: in most cases they can be replaced by a list comprehension, which is (arguably) more readable."
   ]
  },
  {
   "cell_type": "markdown",
   "metadata": {},
   "source": [
    "# 4. Functions"
   ]
  },
  {
   "cell_type": "markdown",
   "metadata": {
    "collapsed": true
   },
   "source": [
    "Functions in Python are declared using the ``def`` keyword. For the following exercise, we'll revisit an old friend: computing the $n$ first Fibonacci numbers. Recall that the first two Fibonacci numbers are 0 and 1, and that each subsequent Fibonacci number is the sum of the two previous Fibonacci numbers."
   ]
  },
  {
   "cell_type": "code",
   "execution_count": null,
   "metadata": {
    "collapsed": false
   },
   "outputs": [],
   "source": [
    "# Write a *recursive* function that computes the nth Fibonacci\n",
    "# number and test it out on a few values for n.\n",
    "\n",
    "def fib1(n):\n",
    "    if n <= 1:\n",
    "        return 1\n",
    "    else:\n",
    "        return fib1(n - 1) + fib1(n-2)"
   ]
  },
  {
   "cell_type": "code",
   "execution_count": null,
   "metadata": {
    "collapsed": false
   },
   "outputs": [],
   "source": [
    "for n in range(10):\n",
    "    print fib1(n), "
   ]
  },
  {
   "cell_type": "markdown",
   "metadata": {},
   "source": [
    "It's well-known that this is a very inefficient implementation: ``fib(10)`` requires ``fib(9)`` and ``fib(8)`` to be computed, but ``fib(9)`` will recompute ``fib(8)``, and so on. Apart from being inefficient, this kind of recursive implementation also doesn't sit well with Python and can lead to your program crashing Python's stack (see ``sys.getrecursionlimit()`` for an upper limit on the number of stack frames).\n",
    "\n",
    "Ignoring these problems for a moment, let's use IPython's builtin `%timeit` and `%prun` magic commands to obtain some timing and profiling information."
   ]
  },
  {
   "cell_type": "code",
   "execution_count": null,
   "metadata": {
    "collapsed": false
   },
   "outputs": [],
   "source": [
    "sys.getrecursionlimit()"
   ]
  },
  {
   "cell_type": "code",
   "execution_count": null,
   "metadata": {
    "collapsed": false
   },
   "outputs": [],
   "source": [
    "%timeit fib1(20)"
   ]
  },
  {
   "cell_type": "code",
   "execution_count": null,
   "metadata": {
    "collapsed": false
   },
   "outputs": [],
   "source": [
    "%prun fib1(20)"
   ]
  },
  {
   "cell_type": "markdown",
   "metadata": {},
   "source": [
    "Whoa! 20000+ function calls to compute the 20th Fibonacci number; clearly we can do better. Write\n",
    "\n",
    "1. A Fibonacci function that computes the $n$th Fibonacci number iteratively, i.e. without recursion.\n",
    "\n",
    "1. (extra credit) A Fibonacci function that stores the intermediary results (memoization) to arrive at the final result.\n",
    "\n",
    "Use `%timeit` and `%prun` to obtain timing information for each of these, and compare with the recursive version."
   ]
  },
  {
   "cell_type": "markdown",
   "metadata": {},
   "source": [
    "# 5. Packages, modules, and namespaces"
   ]
  },
  {
   "cell_type": "markdown",
   "metadata": {},
   "source": [
    "Python comes with a huge standard library of packages to do the most common tasks, and on top of that there is a huge ecosystem with packages for everything. Good resources are:\n",
    "\n",
    "1. The [docs](https://docs.python.org/2/library/math.html) for the Python standard library;\n",
    "1. The [Python package index](https://pypi.python.org/pypi) --- everything and the kitchen sink;\n",
    "1. [SciPy.org](http://scipy.org/) --- an entry point into the Scientific Python stack.\n",
    "\n",
    "We won't go into creating and packaging your own module here, we'll just play around with some standard modules."
   ]
  },
  {
   "cell_type": "code",
   "execution_count": null,
   "metadata": {
    "collapsed": false
   },
   "outputs": [],
   "source": [
    "# To import a module and make it available in the namespace:\n",
    "import re\n",
    "\n",
    "re.sub('(perl|java|cobol)', 'python', 'I mainly program in perl, java, and cobol')"
   ]
  },
  {
   "cell_type": "code",
   "execution_count": null,
   "metadata": {
    "collapsed": false
   },
   "outputs": [],
   "source": [
    "# To import a single (or a handful) of symbols from a module:\n",
    "\n",
    "from math import e, pi\n",
    "\n",
    "print \"I have discovered a new constant:\", e ** (pi * 1j)"
   ]
  },
  {
   "cell_type": "code",
   "execution_count": null,
   "metadata": {
    "collapsed": false
   },
   "outputs": [],
   "source": [
    "# To import *everything* from a module (not recommended!)\n",
    "from math import *\n",
    "\n",
    "print log10(100)"
   ]
  },
  {
   "cell_type": "markdown",
   "metadata": {},
   "source": [
    "As an exercise, look at [the documentation for Python's `os` module](https://docs.python.org/2/library/os.html#os-file-dir). Find a function that gives you the current working directory, and run that function.\n",
    "\n",
    "Extra credit: play around with some of the other modules ;-) If you have numpy and scipy installed, take a look at the documentation for those packages."
   ]
  },
  {
   "cell_type": "markdown",
   "metadata": {},
   "source": [
    "# 6. A five-minute introduction to Python's killer apps"
   ]
  },
  {
   "cell_type": "markdown",
   "metadata": {},
   "source": [
    "## 6.1 Numpy and scipy"
   ]
  },
  {
   "cell_type": "markdown",
   "metadata": {},
   "source": [
    "Numpy and Scipy are Python's workhorses for numerical and scientific computations. Numpy exposes an array class and a host of routines to efficiently manipulate arrays and matrices. Scipy provides tons of functionality to deal with basic statistics, signal processing, ODEs, etc. For a complete overview, see http://www.scipy.org."
   ]
  },
  {
   "cell_type": "code",
   "execution_count": null,
   "metadata": {
    "collapsed": true
   },
   "outputs": [],
   "source": [
    "# We import Matplotlib, Python's de facto graphical library. The first\n",
    "# command instructs IPython to display Matplotlib's figures inline in\n",
    "# the notebook.\n",
    "%matplotlib inline\n",
    "import matplotlib.pyplot as plt"
   ]
  },
  {
   "cell_type": "code",
   "execution_count": null,
   "metadata": {
    "collapsed": false
   },
   "outputs": [],
   "source": [
    "import numpy as np\n",
    "\n",
    "x = np.linspace(0, 2 * np.pi, 100)\n",
    "y = np.sin(x)\n",
    "\n",
    "plt.plot(x, y)"
   ]
  },
  {
   "cell_type": "markdown",
   "metadata": {},
   "source": [
    "For numerical manipulations, Numpy's array type is often much better suited than Python's list. In the next example, we'll again create a list of numbers from $0$ to $2\\pi$ and we'll compute the sine of each. We'll compare a pure Python implementation using one that uses Numpy."
   ]
  },
  {
   "cell_type": "code",
   "execution_count": null,
   "metadata": {
    "collapsed": true
   },
   "outputs": [],
   "source": [
    "# Write a Python function that takes an argument n and returns\n",
    "# sin(2 pi k / n) for k ranging from 0 to n (exclusive).\n",
    "from math import sin, pi\n",
    "\n",
    "def sin_python(n=1000):\n",
    "    ?????\n",
    "\n",
    "# Adapt the code that preceded the plot above to do the same thing,\n",
    "# but now using Numpy.\n",
    "def sin_numpy(n=1000):\n",
    "    return np.sin(np.linspace(0, 2 * np.pi, n))"
   ]
  },
  {
   "cell_type": "code",
   "execution_count": null,
   "metadata": {
    "collapsed": false
   },
   "outputs": [],
   "source": [
    "# Obtain timing information for the Python version.\n",
    "%timeit sin_python()"
   ]
  },
  {
   "cell_type": "code",
   "execution_count": null,
   "metadata": {
    "collapsed": false
   },
   "outputs": [],
   "source": [
    "# Time the Numpy version!\n",
    "%timeit sin_numpy()"
   ]
  },
  {
   "cell_type": "markdown",
   "metadata": {},
   "source": [
    "## 6.2 Pandas"
   ]
  },
  {
   "cell_type": "markdown",
   "metadata": {},
   "source": [
    "## 6.3 Cython"
   ]
  },
  {
   "cell_type": "code",
   "execution_count": null,
   "metadata": {
    "collapsed": true
   },
   "outputs": [],
   "source": []
  }
 ],
 "metadata": {
  "kernelspec": {
   "display_name": "Python 2",
   "language": "python",
   "name": "python2"
  },
  "language_info": {
   "codemirror_mode": {
    "name": "ipython",
    "version": 2
   },
   "file_extension": ".py",
   "mimetype": "text/x-python",
   "name": "python",
   "nbconvert_exporter": "python",
   "pygments_lexer": "ipython2",
   "version": "2.7.3"
  }
 },
 "nbformat": 4,
 "nbformat_minor": 0
}
